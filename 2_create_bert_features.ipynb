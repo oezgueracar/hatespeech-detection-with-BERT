{
 "cells": [
  {
   "cell_type": "markdown",
   "metadata": {
    "id": "w3WRQ9XmnUmO"
   },
   "source": [
    "# Preparatory steps\n",
    "\n"
   ]
  },
  {
   "cell_type": "code",
   "execution_count": null,
   "metadata": {
    "colab": {
     "base_uri": "https://localhost:8080/"
    },
    "executionInfo": {
     "elapsed": 24938,
     "status": "ok",
     "timestamp": 1620944471155,
     "user": {
      "displayName": "Joyce X.",
      "photoUrl": "",
      "userId": "02417829936506135033"
     },
     "user_tz": -120
    },
    "id": "8mdFriTtsNPP",
    "outputId": "ec97837a-5760-403d-b334-4dc853075483"
   },
   "outputs": [],
   "source": [
    "# access data from the drive\n",
    "from google.colab import drive\n",
    "drive.mount('/content/drive')"
   ]
  },
  {
   "cell_type": "code",
   "execution_count": null,
   "metadata": {
    "id": "GY0WxCoE5U1t"
   },
   "outputs": [],
   "source": [
    "# alternative: upload files\n",
    "# from google.colab import files\n",
    "# uploaded = files.upload()"
   ]
  },
  {
   "cell_type": "markdown",
   "metadata": {
    "id": "D_F-OZbSLJfc"
   },
   "source": [
    "### Installing necessary packages\n",
    "\n",
    "Install the necessary bert packages and Tensorflow 1.15.2"
   ]
  },
  {
   "cell_type": "code",
   "execution_count": null,
   "metadata": {
    "colab": {
     "base_uri": "https://localhost:8080/",
     "height": 888
    },
    "executionInfo": {
     "elapsed": 25252,
     "status": "ok",
     "timestamp": 1620944509430,
     "user": {
      "displayName": "Joyce X.",
      "photoUrl": "",
      "userId": "02417829936506135033"
     },
     "user_tz": -120
    },
    "id": "t7fXJNb2LS-y",
    "outputId": "55247223-a8d1-4681-c370-c0ca9a4fc02d"
   },
   "outputs": [],
   "source": [
    "!pip uninstall gast\n",
    "!pip install gast==0.2.2\n",
    "!pip install sentencepiece\n",
    "!pip install bert-tensorflow==1.0.1\n",
    "!pip install pandas==0.24"
   ]
  },
  {
   "cell_type": "markdown",
   "metadata": {
    "id": "D2H1ytKXFMP6"
   },
   "source": [
    "After restarting the runtime as suggested, run following:"
   ]
  },
  {
   "cell_type": "code",
   "execution_count": null,
   "metadata": {
    "colab": {
     "base_uri": "https://localhost:8080/"
    },
    "executionInfo": {
     "elapsed": 838,
     "status": "ok",
     "timestamp": 1620944519042,
     "user": {
      "displayName": "Joyce X.",
      "photoUrl": "",
      "userId": "02417829936506135033"
     },
     "user_tz": -120
    },
    "id": "S3eihpLMtkga",
    "outputId": "0b2ee196-fc6d-4f95-88c3-c845adf1116c"
   },
   "outputs": [],
   "source": [
    "%tensorflow_version 1.x"
   ]
  },
  {
   "cell_type": "code",
   "execution_count": null,
   "metadata": {
    "id": "xbDu9gHRAJRL"
   },
   "outputs": [],
   "source": [
    "# for importing modules in .py files, insert the working directory\n",
    "import sys\n",
    "sys.path.insert(0,'/content/drive/My Drive/AIandLaw/CodeAndModel/')"
   ]
  },
  {
   "cell_type": "markdown",
   "metadata": {
    "id": "Mg0HBFfNHQI0"
   },
   "source": [
    "# Create BERT features\n",
    "\n",
    "With full training_data_hate_speech.csv.\n",
    "\n",
    "This script is useful to create BERT features for a new model training set.\n",
    "As this is a slow process it is separated from the training of the xgboost model.\n",
    "The script only needs three inputs:\n",
    "- data_input_path: Location of the data. Expects a csv file with a \"Comment_text\" and a \"Hateful_or_not\" column.\n",
    "- data_output_path: Location where the BERT features will be saved.\n",
    "    This file is used as input to \"train_optimize_xgboost.py\"\n",
    "- bert_model_path: Location of the BERT model."
   ]
  },
  {
   "cell_type": "code",
   "execution_count": null,
   "metadata": {
    "id": "3823QB1aHPrY"
   },
   "outputs": [],
   "source": [
    "import pandas as pd\n",
    "import numpy as np\n",
    "\n",
    "import tensorflow as tf\n",
    "\n",
    "from bert_functions_modified import *\n",
    "from functions_modified import *"
   ]
  },
  {
   "cell_type": "code",
   "execution_count": null,
   "metadata": {
    "id": "ahLv2tjLHbi6"
   },
   "outputs": [],
   "source": [
    "# --------- User Input ----------\n",
    "data_input_path = \"/content/drive/My Drive/AIandLaw/CodeAndModel/dataset/training_data_hate_speech.csv\"\n",
    "data_output_path = \"/content/drive/My Drive/AIandLaw/CodeAndModel/bert_features.csv\"\n",
    "bert_model_path = \"/content/drive/My Drive/AIandLaw/CodeAndModel/bert_model_updated.h5\" # if updated, change file name"
   ]
  },
  {
   "cell_type": "code",
   "execution_count": null,
   "metadata": {
    "colab": {
     "base_uri": "https://localhost:8080/"
    },
    "executionInfo": {
     "elapsed": 43360,
     "status": "ok",
     "timestamp": 1620672515728,
     "user": {
      "displayName": "Joyce X.",
      "photoUrl": "",
      "userId": "02417829936506135033"
     },
     "user_tz": -120
    },
    "id": "_4UEbGVY-Fik",
    "outputId": "0ba04586-9a4f-4ba9-bb94-bb9293943c1e"
   },
   "outputs": [],
   "source": [
    "sess = tf.Session()\n",
    "max_seq_length = 256\n",
    "bert_model = build_model(max_seq_length, bert_path=\"https://tfhub.dev/google/bert_uncased_L-12_H-768_A-12/1\")\n",
    "initialize_vars(sess)\n",
    "bert_model.load_weights(bert_model_path)"
   ]
  },
  {
   "cell_type": "code",
   "execution_count": null,
   "metadata": {
    "id": "ruUZho0qHzZy"
   },
   "outputs": [],
   "source": [
    "X_train = pd.read_csv(data_input_path, sep=',')"
   ]
  },
  {
   "cell_type": "code",
   "execution_count": null,
   "metadata": {
    "id": "_Ibh5-SSH07t"
   },
   "outputs": [],
   "source": [
    "# Create datasets (Only take up to max_seq_length words for memory)\n",
    "train_text = X_train['Comment_text'].tolist()\n",
    "train_text = [' '.join(str(t).split()[0:max_seq_length]) for t in train_text]\n",
    "train_text = np.array(train_text, dtype=object)[:, np.newaxis]\n",
    "train_label = X_train['Hateful_or_not'].tolist()"
   ]
  },
  {
   "cell_type": "code",
   "execution_count": null,
   "metadata": {
    "colab": {
     "base_uri": "https://localhost:8080/"
    },
    "executionInfo": {
     "elapsed": 48629,
     "status": "ok",
     "timestamp": 1620672526050,
     "user": {
      "displayName": "Joyce X.",
      "photoUrl": "",
      "userId": "02417829936506135033"
     },
     "user_tz": -120
    },
    "id": "MetieCVtH3oQ",
    "outputId": "9a2818ed-00bf-461a-8deb-e3d15c2f0574"
   },
   "outputs": [],
   "source": [
    "# Instantiate tokenizer\n",
    "tokenizer = create_tokenizer_from_hub_module(\"https://tfhub.dev/google/bert_uncased_L-12_H-768_A-12/1\", sess)"
   ]
  },
  {
   "cell_type": "code",
   "execution_count": null,
   "metadata": {
    "id": "B6RV-ecaH5HT"
   },
   "outputs": [],
   "source": [
    "# Convert data to InputExample format\n",
    "train_examples = convert_text_to_examples(train_text, train_label)"
   ]
  },
  {
   "cell_type": "code",
   "execution_count": null,
   "metadata": {
    "colab": {
     "base_uri": "https://localhost:8080/",
     "height": 66,
     "referenced_widgets": [
      "5bf9f5709fd647ba960ca490fc14aaa1",
      "0c2cb12a505f45f9ad3a9c8d03f70671",
      "1a7873729a2548a9b2bb7f59c8e0f0e8",
      "007164f32ee348f9b548e4dc4d083a55",
      "7257ac8321d446808e866f3883f3cac5",
      "590a3e0521e449a08eb0315ea3b268ca",
      "8eb67c2ed5bb485db564988922641043",
      "75f99eb6cfcc4dfabcc16f926de8373e"
     ]
    },
    "executionInfo": {
     "elapsed": 327431,
     "status": "ok",
     "timestamp": 1620672807905,
     "user": {
      "displayName": "Joyce X.",
      "photoUrl": "",
      "userId": "02417829936506135033"
     },
     "user_tz": -120
    },
    "id": "HyyMp2tdH66B",
    "outputId": "ebae36f0-6d5d-4d26-df39-47616d22b7e7"
   },
   "outputs": [],
   "source": [
    "# Convert to features\n",
    "(train_input_ids, train_input_masks, train_segment_ids, train_labels\n",
    ") = convert_examples_to_features(tokenizer, train_examples, max_seq_length=max_seq_length)"
   ]
  },
  {
   "cell_type": "code",
   "execution_count": null,
   "metadata": {
    "id": "xPHiSRMSH8ir"
   },
   "outputs": [],
   "source": [
    "bert_train, bert_features = get_bert_features([train_input_ids, train_input_masks, train_segment_ids], bert_model)\n",
    "X_train = X_train.reset_index().join(bert_train).set_index('index')\n",
    "\n",
    "X_train.to_csv(data_output_path)"
   ]
  }
 ],
 "metadata": {
  "accelerator": "GPU",
  "colab": {
   "collapsed_sections": [
    "w3WRQ9XmnUmO",
    "Mg0HBFfNHQI0"
   ],
   "name": "2_create_bert_features.ipynb",
   "provenance": []
  },
  "kernelspec": {
   "display_name": "Python 3",
   "name": "python3"
  },
  "language_info": {
   "name": "python"
  },
  "widgets": {
   "application/vnd.jupyter.widget-state+json": {
    "007164f32ee348f9b548e4dc4d083a55": {
     "model_module": "@jupyter-widgets/controls",
     "model_name": "HTMLModel",
     "state": {
      "_dom_classes": [],
      "_model_module": "@jupyter-widgets/controls",
      "_model_module_version": "1.5.0",
      "_model_name": "HTMLModel",
      "_view_count": null,
      "_view_module": "@jupyter-widgets/controls",
      "_view_module_version": "1.5.0",
      "_view_name": "HTMLView",
      "description": "",
      "description_tooltip": null,
      "layout": "IPY_MODEL_75f99eb6cfcc4dfabcc16f926de8373e",
      "placeholder": "​",
      "style": "IPY_MODEL_8eb67c2ed5bb485db564988922641043",
      "value": " 195066/195066 [04:27&lt;00:00, 728.92it/s]"
     }
    },
    "0c2cb12a505f45f9ad3a9c8d03f70671": {
     "model_module": "@jupyter-widgets/base",
     "model_name": "LayoutModel",
     "state": {
      "_model_module": "@jupyter-widgets/base",
      "_model_module_version": "1.2.0",
      "_model_name": "LayoutModel",
      "_view_count": null,
      "_view_module": "@jupyter-widgets/base",
      "_view_module_version": "1.2.0",
      "_view_name": "LayoutView",
      "align_content": null,
      "align_items": null,
      "align_self": null,
      "border": null,
      "bottom": null,
      "display": null,
      "flex": null,
      "flex_flow": null,
      "grid_area": null,
      "grid_auto_columns": null,
      "grid_auto_flow": null,
      "grid_auto_rows": null,
      "grid_column": null,
      "grid_gap": null,
      "grid_row": null,
      "grid_template_areas": null,
      "grid_template_columns": null,
      "grid_template_rows": null,
      "height": null,
      "justify_content": null,
      "justify_items": null,
      "left": null,
      "margin": null,
      "max_height": null,
      "max_width": null,
      "min_height": null,
      "min_width": null,
      "object_fit": null,
      "object_position": null,
      "order": null,
      "overflow": null,
      "overflow_x": null,
      "overflow_y": null,
      "padding": null,
      "right": null,
      "top": null,
      "visibility": null,
      "width": null
     }
    },
    "1a7873729a2548a9b2bb7f59c8e0f0e8": {
     "model_module": "@jupyter-widgets/controls",
     "model_name": "FloatProgressModel",
     "state": {
      "_dom_classes": [],
      "_model_module": "@jupyter-widgets/controls",
      "_model_module_version": "1.5.0",
      "_model_name": "FloatProgressModel",
      "_view_count": null,
      "_view_module": "@jupyter-widgets/controls",
      "_view_module_version": "1.5.0",
      "_view_name": "ProgressView",
      "bar_style": "success",
      "description": "Converting examples to features: 100%",
      "description_tooltip": null,
      "layout": "IPY_MODEL_590a3e0521e449a08eb0315ea3b268ca",
      "max": 195066,
      "min": 0,
      "orientation": "horizontal",
      "style": "IPY_MODEL_7257ac8321d446808e866f3883f3cac5",
      "value": 195066
     }
    },
    "590a3e0521e449a08eb0315ea3b268ca": {
     "model_module": "@jupyter-widgets/base",
     "model_name": "LayoutModel",
     "state": {
      "_model_module": "@jupyter-widgets/base",
      "_model_module_version": "1.2.0",
      "_model_name": "LayoutModel",
      "_view_count": null,
      "_view_module": "@jupyter-widgets/base",
      "_view_module_version": "1.2.0",
      "_view_name": "LayoutView",
      "align_content": null,
      "align_items": null,
      "align_self": null,
      "border": null,
      "bottom": null,
      "display": null,
      "flex": null,
      "flex_flow": null,
      "grid_area": null,
      "grid_auto_columns": null,
      "grid_auto_flow": null,
      "grid_auto_rows": null,
      "grid_column": null,
      "grid_gap": null,
      "grid_row": null,
      "grid_template_areas": null,
      "grid_template_columns": null,
      "grid_template_rows": null,
      "height": null,
      "justify_content": null,
      "justify_items": null,
      "left": null,
      "margin": null,
      "max_height": null,
      "max_width": null,
      "min_height": null,
      "min_width": null,
      "object_fit": null,
      "object_position": null,
      "order": null,
      "overflow": null,
      "overflow_x": null,
      "overflow_y": null,
      "padding": null,
      "right": null,
      "top": null,
      "visibility": null,
      "width": null
     }
    },
    "5bf9f5709fd647ba960ca490fc14aaa1": {
     "model_module": "@jupyter-widgets/controls",
     "model_name": "HBoxModel",
     "state": {
      "_dom_classes": [],
      "_model_module": "@jupyter-widgets/controls",
      "_model_module_version": "1.5.0",
      "_model_name": "HBoxModel",
      "_view_count": null,
      "_view_module": "@jupyter-widgets/controls",
      "_view_module_version": "1.5.0",
      "_view_name": "HBoxView",
      "box_style": "",
      "children": [
       "IPY_MODEL_1a7873729a2548a9b2bb7f59c8e0f0e8",
       "IPY_MODEL_007164f32ee348f9b548e4dc4d083a55"
      ],
      "layout": "IPY_MODEL_0c2cb12a505f45f9ad3a9c8d03f70671"
     }
    },
    "7257ac8321d446808e866f3883f3cac5": {
     "model_module": "@jupyter-widgets/controls",
     "model_name": "ProgressStyleModel",
     "state": {
      "_model_module": "@jupyter-widgets/controls",
      "_model_module_version": "1.5.0",
      "_model_name": "ProgressStyleModel",
      "_view_count": null,
      "_view_module": "@jupyter-widgets/base",
      "_view_module_version": "1.2.0",
      "_view_name": "StyleView",
      "bar_color": null,
      "description_width": "initial"
     }
    },
    "75f99eb6cfcc4dfabcc16f926de8373e": {
     "model_module": "@jupyter-widgets/base",
     "model_name": "LayoutModel",
     "state": {
      "_model_module": "@jupyter-widgets/base",
      "_model_module_version": "1.2.0",
      "_model_name": "LayoutModel",
      "_view_count": null,
      "_view_module": "@jupyter-widgets/base",
      "_view_module_version": "1.2.0",
      "_view_name": "LayoutView",
      "align_content": null,
      "align_items": null,
      "align_self": null,
      "border": null,
      "bottom": null,
      "display": null,
      "flex": null,
      "flex_flow": null,
      "grid_area": null,
      "grid_auto_columns": null,
      "grid_auto_flow": null,
      "grid_auto_rows": null,
      "grid_column": null,
      "grid_gap": null,
      "grid_row": null,
      "grid_template_areas": null,
      "grid_template_columns": null,
      "grid_template_rows": null,
      "height": null,
      "justify_content": null,
      "justify_items": null,
      "left": null,
      "margin": null,
      "max_height": null,
      "max_width": null,
      "min_height": null,
      "min_width": null,
      "object_fit": null,
      "object_position": null,
      "order": null,
      "overflow": null,
      "overflow_x": null,
      "overflow_y": null,
      "padding": null,
      "right": null,
      "top": null,
      "visibility": null,
      "width": null
     }
    },
    "8eb67c2ed5bb485db564988922641043": {
     "model_module": "@jupyter-widgets/controls",
     "model_name": "DescriptionStyleModel",
     "state": {
      "_model_module": "@jupyter-widgets/controls",
      "_model_module_version": "1.5.0",
      "_model_name": "DescriptionStyleModel",
      "_view_count": null,
      "_view_module": "@jupyter-widgets/base",
      "_view_module_version": "1.2.0",
      "_view_name": "StyleView",
      "description_width": ""
     }
    }
   }
  }
 },
 "nbformat": 4,
 "nbformat_minor": 0
}
