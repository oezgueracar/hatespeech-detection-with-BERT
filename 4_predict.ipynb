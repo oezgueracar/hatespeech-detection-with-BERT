{
 "cells": [
  {
   "cell_type": "markdown",
   "metadata": {
    "id": "w3WRQ9XmnUmO"
   },
   "source": [
    "# Preparatory steps\n",
    "\n"
   ]
  },
  {
   "cell_type": "code",
   "execution_count": null,
   "metadata": {
    "colab": {
     "base_uri": "https://localhost:8080/"
    },
    "executionInfo": {
     "elapsed": 51552,
     "status": "ok",
     "timestamp": 1621007590972,
     "user": {
      "displayName": "Joyce X.",
      "photoUrl": "",
      "userId": "02417829936506135033"
     },
     "user_tz": -120
    },
    "id": "8mdFriTtsNPP",
    "outputId": "dcc234f1-18b6-4fd6-b3e7-171a2a193a5b"
   },
   "outputs": [],
   "source": [
    "# access data from the drive\n",
    "from google.colab import drive\n",
    "drive.mount('/content/drive')"
   ]
  },
  {
   "cell_type": "code",
   "execution_count": null,
   "metadata": {
    "id": "GY0WxCoE5U1t"
   },
   "outputs": [],
   "source": [
    "# alternative: upload files\n",
    "# from google.colab import files\n",
    "# uploaded = files.upload()"
   ]
  },
  {
   "cell_type": "markdown",
   "metadata": {
    "id": "D_F-OZbSLJfc"
   },
   "source": [
    "### Installing necessary packages\n",
    "\n",
    "Install the necessary bert packages and Tensorflow 1.15.2"
   ]
  },
  {
   "cell_type": "code",
   "execution_count": null,
   "metadata": {
    "colab": {
     "base_uri": "https://localhost:8080/",
     "height": 888
    },
    "executionInfo": {
     "elapsed": 340406,
     "status": "ok",
     "timestamp": 1621007931323,
     "user": {
      "displayName": "Joyce X.",
      "photoUrl": "",
      "userId": "02417829936506135033"
     },
     "user_tz": -120
    },
    "id": "t7fXJNb2LS-y",
    "outputId": "5dce09cd-777c-4e9a-c2a7-5f9a452772a7"
   },
   "outputs": [],
   "source": [
    "!pip uninstall gast\n",
    "!pip install gast==0.2.2\n",
    "!pip install sentencepiece\n",
    "!pip install bert-tensorflow==1.0.1\n",
    "!pip install pandas==0.24"
   ]
  },
  {
   "cell_type": "markdown",
   "metadata": {
    "id": "D2H1ytKXFMP6"
   },
   "source": [
    "After restarting the runtime as suggested, run following:"
   ]
  },
  {
   "cell_type": "code",
   "execution_count": null,
   "metadata": {
    "colab": {
     "base_uri": "https://localhost:8080/"
    },
    "executionInfo": {
     "elapsed": 779,
     "status": "ok",
     "timestamp": 1621007941970,
     "user": {
      "displayName": "Joyce X.",
      "photoUrl": "",
      "userId": "02417829936506135033"
     },
     "user_tz": -120
    },
    "id": "S3eihpLMtkga",
    "outputId": "93e29915-806b-4c3b-c259-cc3b17bd5411"
   },
   "outputs": [],
   "source": [
    "%tensorflow_version 1.x"
   ]
  },
  {
   "cell_type": "code",
   "execution_count": null,
   "metadata": {
    "executionInfo": {
     "elapsed": 360,
     "status": "ok",
     "timestamp": 1621007941971,
     "user": {
      "displayName": "Joyce X.",
      "photoUrl": "",
      "userId": "02417829936506135033"
     },
     "user_tz": -120
    },
    "id": "xbDu9gHRAJRL"
   },
   "outputs": [],
   "source": [
    "# for importing modules in .py files, insert the working directory\n",
    "import sys\n",
    "sys.path.insert(0,'/content/drive/My Drive/AIandLaw/CodeAndModel/')"
   ]
  },
  {
   "cell_type": "markdown",
   "metadata": {
    "id": "nQ7Teu4up5V0"
   },
   "source": [
    "# Predict"
   ]
  },
  {
   "cell_type": "markdown",
   "metadata": {
    "id": "jOXEAwuNIfcO"
   },
   "source": [
    "This can be used to predict the labels (hateful or not) of new data with existing models.\n",
    "Before you run it, you have to change the following input variables;\n",
    "- data_path: Location of the new data.\n",
    "- bert_model_path: Location of the BERT model.\n",
    "- xgb_model_path: Location of the predictions model.\n",
    "- bert_output_path = Location where the BERT features should be saved.\n",
    "- predictions_output_path = Location where the predictions are saved.\n",
    "The data_path should point to a csv file with a column called \"Comment_text\".\n",
    "BERT is a huge machine learning model and it takes quite long to generate features with it, that why the BERT\n",
    "features are stored. If for some reason an error happens afterwards, the BERT features don't have to be computed again.\n",
    "The output is a csv file with three columns: the original comment, the predicted probability that is is a hateful\n",
    "comment and the binary prediction (True if the predicted probability is greater than 0.5).\n",
    "To execute the script you just need to change the variables in the \"User Input\" section and then run the script."
   ]
  },
  {
   "cell_type": "code",
   "execution_count": null,
   "metadata": {
    "colab": {
     "base_uri": "https://localhost:8080/"
    },
    "executionInfo": {
     "elapsed": 6826,
     "status": "ok",
     "timestamp": 1621007951316,
     "user": {
      "displayName": "Joyce X.",
      "photoUrl": "",
      "userId": "02417829936506135033"
     },
     "user_tz": -120
    },
    "id": "3PcKB8dVqMuo",
    "outputId": "87e0ded0-61cd-4075-fa31-6b5d5dccc3b1"
   },
   "outputs": [],
   "source": [
    "import pandas as pd\n",
    "import numpy as np\n",
    "import xgboost as xgb\n",
    "import tensorflow as tf\n",
    "\n",
    "from sklearn.externals import joblib\n",
    "from sklearn.metrics import confusion_matrix\n",
    "from sklearn.metrics import matthews_corrcoef\n",
    "\n",
    "from bert_functions_modified import *\n",
    "from functions_modified import *"
   ]
  },
  {
   "cell_type": "code",
   "execution_count": null,
   "metadata": {
    "executionInfo": {
     "elapsed": 451,
     "status": "ok",
     "timestamp": 1621007965366,
     "user": {
      "displayName": "Joyce X.",
      "photoUrl": "",
      "userId": "02417829936506135033"
     },
     "user_tz": -120
    },
    "id": "ljcWv2dWtzLs"
   },
   "outputs": [],
   "source": [
    "# --------- User Input ----------------------------\n",
    "data_path = \"/content/drive/My Drive/AIandLaw/CodeAndModel/dataset/test_data_hate_speech.csv\"\n",
    "bert_model_path = \"/content/drive/My Drive/AIandLaw/CodeAndModel/bert_model_updated.h5\"\n",
    "xgb_model_path = \"/content/drive/My Drive/AIandLaw/CodeAndModel/xgboost_model.dat\"\n",
    "bert_output_path = \"/content/drive/My Drive/AIandLaw/CodeAndModel/bert_output.csv\"\n",
    "predictions_output_path = \"/content/drive/My Drive/AIandLaw/CodeAndModel/predictions.csv\""
   ]
  },
  {
   "cell_type": "code",
   "execution_count": null,
   "metadata": {
    "executionInfo": {
     "elapsed": 778,
     "status": "ok",
     "timestamp": 1621007986609,
     "user": {
      "displayName": "Joyce X.",
      "photoUrl": "",
      "userId": "02417829936506135033"
     },
     "user_tz": -120
    },
    "id": "b_8L-opYvP20"
   },
   "outputs": [],
   "source": [
    "new_data = pd.read_csv(data_path)"
   ]
  },
  {
   "cell_type": "code",
   "execution_count": null,
   "metadata": {
    "colab": {
     "base_uri": "https://localhost:8080/"
    },
    "executionInfo": {
     "elapsed": 38011,
     "status": "ok",
     "timestamp": 1621008028762,
     "user": {
      "displayName": "Joyce X.",
      "photoUrl": "",
      "userId": "02417829936506135033"
     },
     "user_tz": -120
    },
    "id": "Gr-ZDHlvu4Fa",
    "outputId": "ec1f921a-da00-4ff7-bf80-e2c055efd763"
   },
   "outputs": [],
   "source": [
    "sess = tf.Session()\n",
    "max_seq_length = 256\n",
    "bert_model = build_model(max_seq_length, bert_path=\"https://tfhub.dev/google/bert_uncased_L-12_H-768_A-12/1\")\n",
    "initialize_vars(sess)\n",
    "bert_model.load_weights(bert_model_path)"
   ]
  },
  {
   "cell_type": "markdown",
   "metadata": {
    "id": "tbMGRxYPzPy_"
   },
   "source": [
    "### Instantly evaluating single comment without XGBoost \n",
    "\n",
    "For testing purposes. Enter a text in the INPUT TEXT cell and run it to instantly detect hate speech without needing to save it as .csv first.\n",
    "\n",
    "Note: need to build the model first from previous cells"
   ]
  },
  {
   "cell_type": "code",
   "execution_count": null,
   "metadata": {
    "colab": {
     "base_uri": "https://localhost:8080/"
    },
    "executionInfo": {
     "elapsed": 3738,
     "status": "ok",
     "timestamp": 1621008032518,
     "user": {
      "displayName": "Joyce X.",
      "photoUrl": "",
      "userId": "02417829936506135033"
     },
     "user_tz": -120
    },
    "id": "-EyhQESj8zYN",
    "outputId": "c6b5ce01-00ea-4654-cde5-117576332e67"
   },
   "outputs": [],
   "source": [
    "tokenizer = create_tokenizer_from_hub_module(\"https://tfhub.dev/google/bert_uncased_L-12_H-768_A-12/1\", sess)"
   ]
  },
  {
   "cell_type": "code",
   "execution_count": null,
   "metadata": {
    "executionInfo": {
     "elapsed": 3736,
     "status": "ok",
     "timestamp": 1621008032519,
     "user": {
      "displayName": "Joyce X.",
      "photoUrl": "",
      "userId": "02417829936506135033"
     },
     "user_tz": -120
    },
    "id": "mlXcwWYV61qv"
   },
   "outputs": [],
   "source": [
    "def evaluateTextForHateSpeech(text, tokenizer):\n",
    "  text = str(text)\n",
    "  text = text = [' '.join(str(text).split()[0:max_seq_length])]\n",
    "  text = np.array(text, dtype=object)[:, np.newaxis]\n",
    "  pseudo_label = [1] * len(text)\n",
    "\n",
    "  example = convert_text_to_examples(text, pseudo_label)\n",
    "  (input_ids, input_masks, segment_ids, labels) = convert_examples_to_features(tokenizer, example, max_seq_length=max_seq_length)\n",
    "\n",
    "  prediction = bert_model.predict([input_ids, input_masks, segment_ids])\n",
    "\n",
    "  if prediction > 0.5:\n",
    "    return \"Hate speech detected\"\n",
    "  else:\n",
    "    return \"No hate speech detected\""
   ]
  },
  {
   "cell_type": "code",
   "execution_count": null,
   "metadata": {
    "executionInfo": {
     "elapsed": 3734,
     "status": "ok",
     "timestamp": 1621008032520,
     "user": {
      "displayName": "Joyce X.",
      "photoUrl": "",
      "userId": "02417829936506135033"
     },
     "user_tz": -120
    },
    "id": "JEPgmHtNz81c"
   },
   "outputs": [],
   "source": [
    "#INPUT TEXT\n",
    "textToBeEvaluated = \"White people are trashy.\""
   ]
  },
  {
   "cell_type": "code",
   "execution_count": null,
   "metadata": {
    "colab": {
     "base_uri": "https://localhost:8080/",
     "height": 84,
     "referenced_widgets": [
      "26dedf446ffb4128a32138342e705465",
      "69d8f13a4c684d759138eca7b927ba91",
      "c7d63cc8b9f143a7ad2e692b012cfdb4",
      "59de3aa757d64a23ad18677f9dae704b",
      "1775a19cca3140a99d93da0fce89f2ff",
      "e61fb16824114d419c4cdda6333faa99",
      "4027850eaa4a49639f18728f8db4984f",
      "5848bbcd003b46248a3b1aeb8408a671"
     ]
    },
    "executionInfo": {
     "elapsed": 6580,
     "status": "ok",
     "timestamp": 1621008035375,
     "user": {
      "displayName": "Joyce X.",
      "photoUrl": "",
      "userId": "02417829936506135033"
     },
     "user_tz": -120
    },
    "id": "iimEPH5J9Cih",
    "outputId": "7f7f706b-d38d-4f1a-d6c2-b75e9ca33b0a"
   },
   "outputs": [],
   "source": [
    "evaluateTextForHateSpeech(textToBeEvaluated, tokenizer)"
   ]
  },
  {
   "cell_type": "markdown",
   "metadata": {
    "id": "UFYEBsGOiNr6"
   },
   "source": [
    "### Create dataset for BERT"
   ]
  },
  {
   "cell_type": "code",
   "execution_count": null,
   "metadata": {
    "colab": {
     "base_uri": "https://localhost:8080/"
    },
    "executionInfo": {
     "elapsed": 4125,
     "status": "ok",
     "timestamp": 1621008056547,
     "user": {
      "displayName": "Joyce X.",
      "photoUrl": "",
      "userId": "02417829936506135033"
     },
     "user_tz": -120
    },
    "id": "Vx43YDz6u7sv",
    "outputId": "10c14817-9b7f-4d46-bf0b-0151525e567f"
   },
   "outputs": [],
   "source": [
    "# create datasets for BERT\n",
    "text = new_data['Comment_text'].tolist()\n",
    "text = [' '.join(str(t).split()[0:max_seq_length]) for t in text]\n",
    "text = np.array(text, dtype=object)[:, np.newaxis]\n",
    "pseudo_label = [1] * len(text)\n",
    "\n",
    "tokenizer = create_tokenizer_from_hub_module(\"https://tfhub.dev/google/bert_uncased_L-12_H-768_A-12/1\", sess)"
   ]
  },
  {
   "cell_type": "code",
   "execution_count": null,
   "metadata": {
    "executionInfo": {
     "elapsed": 461,
     "status": "ok",
     "timestamp": 1621008059410,
     "user": {
      "displayName": "Joyce X.",
      "photoUrl": "",
      "userId": "02417829936506135033"
     },
     "user_tz": -120
    },
    "id": "4jUF8P2avKLR"
   },
   "outputs": [],
   "source": [
    "# Convert data to InputExample format\n",
    "examples = convert_text_to_examples(text, pseudo_label)"
   ]
  },
  {
   "cell_type": "code",
   "execution_count": null,
   "metadata": {
    "colab": {
     "base_uri": "https://localhost:8080/",
     "height": 66,
     "referenced_widgets": [
      "5349253d9e1344e59cbf8e0dcb86da02",
      "b3e86a8d6b6f4c5ab95443047cc70ac3",
      "64ed0c87617646a6b5c69fd5e0b25d96",
      "fbab8ff222cf482893edb93381618153",
      "f1d5f24b744748d08f73ad7a538c24b9",
      "01705b69444c4c52ae63b24088d370c4",
      "d932d70e79734d718831923297be7104",
      "f9773d89407d4e669f08e77442deacd2"
     ]
    },
    "executionInfo": {
     "elapsed": 3786,
     "status": "ok",
     "timestamp": 1621008063812,
     "user": {
      "displayName": "Joyce X.",
      "photoUrl": "",
      "userId": "02417829936506135033"
     },
     "user_tz": -120
    },
    "id": "i6EiXDvFvXdY",
    "outputId": "993bd876-06ea-4324-bcfc-6f50b3f6a71a"
   },
   "outputs": [],
   "source": [
    "# Convert to features\n",
    "(input_ids, input_masks, segment_ids, labels\n",
    ") = convert_examples_to_features(tokenizer, examples, max_seq_length=max_seq_length)"
   ]
  },
  {
   "cell_type": "code",
   "execution_count": null,
   "metadata": {
    "executionInfo": {
     "elapsed": 47793,
     "status": "ok",
     "timestamp": 1621008109502,
     "user": {
      "displayName": "Joyce X.",
      "photoUrl": "",
      "userId": "02417829936506135033"
     },
     "user_tz": -120
    },
    "id": "xz97iRVevg-B"
   },
   "outputs": [],
   "source": [
    "bert_data, bert_features = get_bert_features([input_ids, input_masks, segment_ids], bert_model)"
   ]
  },
  {
   "cell_type": "code",
   "execution_count": null,
   "metadata": {
    "executionInfo": {
     "elapsed": 50736,
     "status": "ok",
     "timestamp": 1621008113393,
     "user": {
      "displayName": "Joyce X.",
      "photoUrl": "",
      "userId": "02417829936506135033"
     },
     "user_tz": -120
    },
    "id": "ZwbS0f0yLZSx"
   },
   "outputs": [],
   "source": [
    "bert_data = new_data.reset_index().join(bert_data).set_index('index')\n",
    "bert_data.to_csv(bert_output_path)"
   ]
  },
  {
   "cell_type": "markdown",
   "metadata": {
    "id": "jXjvL7iEiB1f"
   },
   "source": [
    "### Performace on test set"
   ]
  },
  {
   "cell_type": "code",
   "execution_count": null,
   "metadata": {
    "id": "GuPRoANhLAnU"
   },
   "outputs": [],
   "source": [
    "#restart\n",
    "bert_data=pd.read_csv(bert_output_path)"
   ]
  },
  {
   "cell_type": "code",
   "execution_count": null,
   "metadata": {
    "executionInfo": {
     "elapsed": 2343,
     "status": "ok",
     "timestamp": 1621008115741,
     "user": {
      "displayName": "Joyce X.",
      "photoUrl": "",
      "userId": "02417829936506135033"
     },
     "user_tz": -120
    },
    "id": "qOR5lXeJwGHN"
   },
   "outputs": [],
   "source": [
    "xgb_model = joblib.load(xgb_model_path)\n",
    "bert_data = pd.read_csv(bert_output_path)\n",
    "bert_data['probabilities'] = xgb_model.predict(bert_data.loc[:, bert_features])"
   ]
  },
  {
   "cell_type": "code",
   "execution_count": null,
   "metadata": {
    "executionInfo": {
     "elapsed": 2340,
     "status": "ok",
     "timestamp": 1621008115742,
     "user": {
      "displayName": "Joyce X.",
      "photoUrl": "",
      "userId": "02417829936506135033"
     },
     "user_tz": -120
    },
    "id": "vZ6x-KoDhaCW"
   },
   "outputs": [],
   "source": [
    "def plot_results(X_test, threshold):\n",
    "  X_test['predictions'] = X_test['probabilities'] > threshold\n",
    "  cf_matrix = confusion_matrix(X_test['Hateful_or_not'], X_test['predictions'])\n",
    "  labels = ['True Negative','False Positive','False Negative','True Positive']\n",
    "  categories = ['Non-hateful', 'Hateful']\n",
    "  make_confusion_matrix(cf_matrix, \n",
    "                        group_names=labels,\n",
    "                        categories=categories, \n",
    "                        cmap='Blues')\n",
    "  # add plot\n",
    "  evaluate_model(X_test['Hateful_or_not'], X_test['probabilities'], plot=True)\n",
    "  print(matthews_corrcoef(X_test['Hateful_or_not'], X_test['predictions']))"
   ]
  },
  {
   "cell_type": "code",
   "execution_count": null,
   "metadata": {
    "colab": {
     "base_uri": "https://localhost:8080/",
     "height": 809
    },
    "executionInfo": {
     "elapsed": 1082,
     "status": "ok",
     "timestamp": 1621008181846,
     "user": {
      "displayName": "Joyce X.",
      "photoUrl": "",
      "userId": "02417829936506135033"
     },
     "user_tz": -120
    },
    "id": "9CNmr-iThd8j",
    "outputId": "eb2fa440-2637-45bb-c388-26f76efa338d"
   },
   "outputs": [],
   "source": [
    "plot_results(bert_data, 0.9)"
   ]
  },
  {
   "cell_type": "markdown",
   "metadata": {
    "id": "u1Ix0UcAh90l"
   },
   "source": [
    "### Output predictions"
   ]
  },
  {
   "cell_type": "code",
   "execution_count": null,
   "metadata": {
    "executionInfo": {
     "elapsed": 452,
     "status": "ok",
     "timestamp": 1621008202655,
     "user": {
      "displayName": "Joyce X.",
      "photoUrl": "",
      "userId": "02417829936506135033"
     },
     "user_tz": -120
    },
    "id": "954-JiKswigS"
   },
   "outputs": [],
   "source": [
    "predictions = new_data\n",
    "predictions['prediciton_score'] = bert_data['probabilities']\n",
    "predictions['predictions'] = bert_data['probabilities'] > 0.9"
   ]
  },
  {
   "cell_type": "code",
   "execution_count": null,
   "metadata": {
    "colab": {
     "base_uri": "https://localhost:8080/",
     "height": 297
    },
    "executionInfo": {
     "elapsed": 514,
     "status": "ok",
     "timestamp": 1621008206970,
     "user": {
      "displayName": "Joyce X.",
      "photoUrl": "",
      "userId": "02417829936506135033"
     },
     "user_tz": -120
    },
    "id": "QVpmGRXYrzde",
    "outputId": "bd60ad4e-cf4a-4d8f-98ed-fc05e07d7c24"
   },
   "outputs": [],
   "source": [
    "predictions.sample(8)"
   ]
  },
  {
   "cell_type": "code",
   "execution_count": null,
   "metadata": {
    "executionInfo": {
     "elapsed": 682,
     "status": "ok",
     "timestamp": 1621008216390,
     "user": {
      "displayName": "Joyce X.",
      "photoUrl": "",
      "userId": "02417829936506135033"
     },
     "user_tz": -120
    },
    "id": "FimR4YcgwZin"
   },
   "outputs": [],
   "source": [
    "predictions.to_csv(predictions_output_path)"
   ]
  }
 ],
 "metadata": {
  "accelerator": "GPU",
  "colab": {
   "collapsed_sections": [],
   "name": "4_predict.ipynb",
   "provenance": []
  },
  "kernelspec": {
   "display_name": "Python 3",
   "name": "python3"
  },
  "language_info": {
   "name": "python"
  },
  "widgets": {
   "application/vnd.jupyter.widget-state+json": {
    "01705b69444c4c52ae63b24088d370c4": {
     "model_module": "@jupyter-widgets/base",
     "model_name": "LayoutModel",
     "state": {
      "_model_module": "@jupyter-widgets/base",
      "_model_module_version": "1.2.0",
      "_model_name": "LayoutModel",
      "_view_count": null,
      "_view_module": "@jupyter-widgets/base",
      "_view_module_version": "1.2.0",
      "_view_name": "LayoutView",
      "align_content": null,
      "align_items": null,
      "align_self": null,
      "border": null,
      "bottom": null,
      "display": null,
      "flex": null,
      "flex_flow": null,
      "grid_area": null,
      "grid_auto_columns": null,
      "grid_auto_flow": null,
      "grid_auto_rows": null,
      "grid_column": null,
      "grid_gap": null,
      "grid_row": null,
      "grid_template_areas": null,
      "grid_template_columns": null,
      "grid_template_rows": null,
      "height": null,
      "justify_content": null,
      "justify_items": null,
      "left": null,
      "margin": null,
      "max_height": null,
      "max_width": null,
      "min_height": null,
      "min_width": null,
      "object_fit": null,
      "object_position": null,
      "order": null,
      "overflow": null,
      "overflow_x": null,
      "overflow_y": null,
      "padding": null,
      "right": null,
      "top": null,
      "visibility": null,
      "width": null
     }
    },
    "1775a19cca3140a99d93da0fce89f2ff": {
     "model_module": "@jupyter-widgets/controls",
     "model_name": "ProgressStyleModel",
     "state": {
      "_model_module": "@jupyter-widgets/controls",
      "_model_module_version": "1.5.0",
      "_model_name": "ProgressStyleModel",
      "_view_count": null,
      "_view_module": "@jupyter-widgets/base",
      "_view_module_version": "1.2.0",
      "_view_name": "StyleView",
      "bar_color": null,
      "description_width": "initial"
     }
    },
    "26dedf446ffb4128a32138342e705465": {
     "model_module": "@jupyter-widgets/controls",
     "model_name": "HBoxModel",
     "state": {
      "_dom_classes": [],
      "_model_module": "@jupyter-widgets/controls",
      "_model_module_version": "1.5.0",
      "_model_name": "HBoxModel",
      "_view_count": null,
      "_view_module": "@jupyter-widgets/controls",
      "_view_module_version": "1.5.0",
      "_view_name": "HBoxView",
      "box_style": "",
      "children": [
       "IPY_MODEL_c7d63cc8b9f143a7ad2e692b012cfdb4",
       "IPY_MODEL_59de3aa757d64a23ad18677f9dae704b"
      ],
      "layout": "IPY_MODEL_69d8f13a4c684d759138eca7b927ba91"
     }
    },
    "4027850eaa4a49639f18728f8db4984f": {
     "model_module": "@jupyter-widgets/controls",
     "model_name": "DescriptionStyleModel",
     "state": {
      "_model_module": "@jupyter-widgets/controls",
      "_model_module_version": "1.5.0",
      "_model_name": "DescriptionStyleModel",
      "_view_count": null,
      "_view_module": "@jupyter-widgets/base",
      "_view_module_version": "1.2.0",
      "_view_name": "StyleView",
      "description_width": ""
     }
    },
    "5349253d9e1344e59cbf8e0dcb86da02": {
     "model_module": "@jupyter-widgets/controls",
     "model_name": "HBoxModel",
     "state": {
      "_dom_classes": [],
      "_model_module": "@jupyter-widgets/controls",
      "_model_module_version": "1.5.0",
      "_model_name": "HBoxModel",
      "_view_count": null,
      "_view_module": "@jupyter-widgets/controls",
      "_view_module_version": "1.5.0",
      "_view_name": "HBoxView",
      "box_style": "",
      "children": [
       "IPY_MODEL_64ed0c87617646a6b5c69fd5e0b25d96",
       "IPY_MODEL_fbab8ff222cf482893edb93381618153"
      ],
      "layout": "IPY_MODEL_b3e86a8d6b6f4c5ab95443047cc70ac3"
     }
    },
    "5848bbcd003b46248a3b1aeb8408a671": {
     "model_module": "@jupyter-widgets/base",
     "model_name": "LayoutModel",
     "state": {
      "_model_module": "@jupyter-widgets/base",
      "_model_module_version": "1.2.0",
      "_model_name": "LayoutModel",
      "_view_count": null,
      "_view_module": "@jupyter-widgets/base",
      "_view_module_version": "1.2.0",
      "_view_name": "LayoutView",
      "align_content": null,
      "align_items": null,
      "align_self": null,
      "border": null,
      "bottom": null,
      "display": null,
      "flex": null,
      "flex_flow": null,
      "grid_area": null,
      "grid_auto_columns": null,
      "grid_auto_flow": null,
      "grid_auto_rows": null,
      "grid_column": null,
      "grid_gap": null,
      "grid_row": null,
      "grid_template_areas": null,
      "grid_template_columns": null,
      "grid_template_rows": null,
      "height": null,
      "justify_content": null,
      "justify_items": null,
      "left": null,
      "margin": null,
      "max_height": null,
      "max_width": null,
      "min_height": null,
      "min_width": null,
      "object_fit": null,
      "object_position": null,
      "order": null,
      "overflow": null,
      "overflow_x": null,
      "overflow_y": null,
      "padding": null,
      "right": null,
      "top": null,
      "visibility": null,
      "width": null
     }
    },
    "59de3aa757d64a23ad18677f9dae704b": {
     "model_module": "@jupyter-widgets/controls",
     "model_name": "HTMLModel",
     "state": {
      "_dom_classes": [],
      "_model_module": "@jupyter-widgets/controls",
      "_model_module_version": "1.5.0",
      "_model_name": "HTMLModel",
      "_view_count": null,
      "_view_module": "@jupyter-widgets/controls",
      "_view_module_version": "1.5.0",
      "_view_name": "HTMLView",
      "description": "",
      "description_tooltip": null,
      "layout": "IPY_MODEL_5848bbcd003b46248a3b1aeb8408a671",
      "placeholder": "​",
      "style": "IPY_MODEL_4027850eaa4a49639f18728f8db4984f",
      "value": " 1/1 [00:20&lt;00:00, 20.58s/it]"
     }
    },
    "64ed0c87617646a6b5c69fd5e0b25d96": {
     "model_module": "@jupyter-widgets/controls",
     "model_name": "FloatProgressModel",
     "state": {
      "_dom_classes": [],
      "_model_module": "@jupyter-widgets/controls",
      "_model_module_version": "1.5.0",
      "_model_name": "FloatProgressModel",
      "_view_count": null,
      "_view_module": "@jupyter-widgets/controls",
      "_view_module_version": "1.5.0",
      "_view_name": "ProgressView",
      "bar_style": "success",
      "description": "Converting examples to features: 100%",
      "description_tooltip": null,
      "layout": "IPY_MODEL_01705b69444c4c52ae63b24088d370c4",
      "max": 2500,
      "min": 0,
      "orientation": "horizontal",
      "style": "IPY_MODEL_f1d5f24b744748d08f73ad7a538c24b9",
      "value": 2500
     }
    },
    "69d8f13a4c684d759138eca7b927ba91": {
     "model_module": "@jupyter-widgets/base",
     "model_name": "LayoutModel",
     "state": {
      "_model_module": "@jupyter-widgets/base",
      "_model_module_version": "1.2.0",
      "_model_name": "LayoutModel",
      "_view_count": null,
      "_view_module": "@jupyter-widgets/base",
      "_view_module_version": "1.2.0",
      "_view_name": "LayoutView",
      "align_content": null,
      "align_items": null,
      "align_self": null,
      "border": null,
      "bottom": null,
      "display": null,
      "flex": null,
      "flex_flow": null,
      "grid_area": null,
      "grid_auto_columns": null,
      "grid_auto_flow": null,
      "grid_auto_rows": null,
      "grid_column": null,
      "grid_gap": null,
      "grid_row": null,
      "grid_template_areas": null,
      "grid_template_columns": null,
      "grid_template_rows": null,
      "height": null,
      "justify_content": null,
      "justify_items": null,
      "left": null,
      "margin": null,
      "max_height": null,
      "max_width": null,
      "min_height": null,
      "min_width": null,
      "object_fit": null,
      "object_position": null,
      "order": null,
      "overflow": null,
      "overflow_x": null,
      "overflow_y": null,
      "padding": null,
      "right": null,
      "top": null,
      "visibility": null,
      "width": null
     }
    },
    "b3e86a8d6b6f4c5ab95443047cc70ac3": {
     "model_module": "@jupyter-widgets/base",
     "model_name": "LayoutModel",
     "state": {
      "_model_module": "@jupyter-widgets/base",
      "_model_module_version": "1.2.0",
      "_model_name": "LayoutModel",
      "_view_count": null,
      "_view_module": "@jupyter-widgets/base",
      "_view_module_version": "1.2.0",
      "_view_name": "LayoutView",
      "align_content": null,
      "align_items": null,
      "align_self": null,
      "border": null,
      "bottom": null,
      "display": null,
      "flex": null,
      "flex_flow": null,
      "grid_area": null,
      "grid_auto_columns": null,
      "grid_auto_flow": null,
      "grid_auto_rows": null,
      "grid_column": null,
      "grid_gap": null,
      "grid_row": null,
      "grid_template_areas": null,
      "grid_template_columns": null,
      "grid_template_rows": null,
      "height": null,
      "justify_content": null,
      "justify_items": null,
      "left": null,
      "margin": null,
      "max_height": null,
      "max_width": null,
      "min_height": null,
      "min_width": null,
      "object_fit": null,
      "object_position": null,
      "order": null,
      "overflow": null,
      "overflow_x": null,
      "overflow_y": null,
      "padding": null,
      "right": null,
      "top": null,
      "visibility": null,
      "width": null
     }
    },
    "c7d63cc8b9f143a7ad2e692b012cfdb4": {
     "model_module": "@jupyter-widgets/controls",
     "model_name": "FloatProgressModel",
     "state": {
      "_dom_classes": [],
      "_model_module": "@jupyter-widgets/controls",
      "_model_module_version": "1.5.0",
      "_model_name": "FloatProgressModel",
      "_view_count": null,
      "_view_module": "@jupyter-widgets/controls",
      "_view_module_version": "1.5.0",
      "_view_name": "ProgressView",
      "bar_style": "success",
      "description": "Converting examples to features: 100%",
      "description_tooltip": null,
      "layout": "IPY_MODEL_e61fb16824114d419c4cdda6333faa99",
      "max": 1,
      "min": 0,
      "orientation": "horizontal",
      "style": "IPY_MODEL_1775a19cca3140a99d93da0fce89f2ff",
      "value": 1
     }
    },
    "d932d70e79734d718831923297be7104": {
     "model_module": "@jupyter-widgets/controls",
     "model_name": "DescriptionStyleModel",
     "state": {
      "_model_module": "@jupyter-widgets/controls",
      "_model_module_version": "1.5.0",
      "_model_name": "DescriptionStyleModel",
      "_view_count": null,
      "_view_module": "@jupyter-widgets/base",
      "_view_module_version": "1.2.0",
      "_view_name": "StyleView",
      "description_width": ""
     }
    },
    "e61fb16824114d419c4cdda6333faa99": {
     "model_module": "@jupyter-widgets/base",
     "model_name": "LayoutModel",
     "state": {
      "_model_module": "@jupyter-widgets/base",
      "_model_module_version": "1.2.0",
      "_model_name": "LayoutModel",
      "_view_count": null,
      "_view_module": "@jupyter-widgets/base",
      "_view_module_version": "1.2.0",
      "_view_name": "LayoutView",
      "align_content": null,
      "align_items": null,
      "align_self": null,
      "border": null,
      "bottom": null,
      "display": null,
      "flex": null,
      "flex_flow": null,
      "grid_area": null,
      "grid_auto_columns": null,
      "grid_auto_flow": null,
      "grid_auto_rows": null,
      "grid_column": null,
      "grid_gap": null,
      "grid_row": null,
      "grid_template_areas": null,
      "grid_template_columns": null,
      "grid_template_rows": null,
      "height": null,
      "justify_content": null,
      "justify_items": null,
      "left": null,
      "margin": null,
      "max_height": null,
      "max_width": null,
      "min_height": null,
      "min_width": null,
      "object_fit": null,
      "object_position": null,
      "order": null,
      "overflow": null,
      "overflow_x": null,
      "overflow_y": null,
      "padding": null,
      "right": null,
      "top": null,
      "visibility": null,
      "width": null
     }
    },
    "f1d5f24b744748d08f73ad7a538c24b9": {
     "model_module": "@jupyter-widgets/controls",
     "model_name": "ProgressStyleModel",
     "state": {
      "_model_module": "@jupyter-widgets/controls",
      "_model_module_version": "1.5.0",
      "_model_name": "ProgressStyleModel",
      "_view_count": null,
      "_view_module": "@jupyter-widgets/base",
      "_view_module_version": "1.2.0",
      "_view_name": "StyleView",
      "bar_color": null,
      "description_width": "initial"
     }
    },
    "f9773d89407d4e669f08e77442deacd2": {
     "model_module": "@jupyter-widgets/base",
     "model_name": "LayoutModel",
     "state": {
      "_model_module": "@jupyter-widgets/base",
      "_model_module_version": "1.2.0",
      "_model_name": "LayoutModel",
      "_view_count": null,
      "_view_module": "@jupyter-widgets/base",
      "_view_module_version": "1.2.0",
      "_view_name": "LayoutView",
      "align_content": null,
      "align_items": null,
      "align_self": null,
      "border": null,
      "bottom": null,
      "display": null,
      "flex": null,
      "flex_flow": null,
      "grid_area": null,
      "grid_auto_columns": null,
      "grid_auto_flow": null,
      "grid_auto_rows": null,
      "grid_column": null,
      "grid_gap": null,
      "grid_row": null,
      "grid_template_areas": null,
      "grid_template_columns": null,
      "grid_template_rows": null,
      "height": null,
      "justify_content": null,
      "justify_items": null,
      "left": null,
      "margin": null,
      "max_height": null,
      "max_width": null,
      "min_height": null,
      "min_width": null,
      "object_fit": null,
      "object_position": null,
      "order": null,
      "overflow": null,
      "overflow_x": null,
      "overflow_y": null,
      "padding": null,
      "right": null,
      "top": null,
      "visibility": null,
      "width": null
     }
    },
    "fbab8ff222cf482893edb93381618153": {
     "model_module": "@jupyter-widgets/controls",
     "model_name": "HTMLModel",
     "state": {
      "_dom_classes": [],
      "_model_module": "@jupyter-widgets/controls",
      "_model_module_version": "1.5.0",
      "_model_name": "HTMLModel",
      "_view_count": null,
      "_view_module": "@jupyter-widgets/controls",
      "_view_module_version": "1.5.0",
      "_view_name": "HTMLView",
      "description": "",
      "description_tooltip": null,
      "layout": "IPY_MODEL_f9773d89407d4e669f08e77442deacd2",
      "placeholder": "​",
      "style": "IPY_MODEL_d932d70e79734d718831923297be7104",
      "value": " 2500/2500 [00:41&lt;00:00, 59.85it/s]"
     }
    }
   }
  }
 },
 "nbformat": 4,
 "nbformat_minor": 0
}
